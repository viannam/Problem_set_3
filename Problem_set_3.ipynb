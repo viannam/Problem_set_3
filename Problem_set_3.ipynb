{
 "cells": [
  {
   "cell_type": "markdown",
   "id": "39402241-a9ad-4fc9-85a5-cdfb9a2261b8",
   "metadata": {},
   "source": [
    "                                                         Problem Set 3\n",
    "                                                         Paul Adunola, Mariana Vianna\n",
    "                                            \n",
    "Question 1:\n",
    "Write a script (or Jupyter Notebook code block) that opens the file, uses a for loop to read through the file line by line and reports the highest water level and the date and time that was observed."
   ]
  },
  {
   "cell_type": "code",
   "execution_count": 21,
   "id": "f2bd533e-7e14-49ee-b7f3-ce8ea7beb3f3",
   "metadata": {},
   "outputs": [
    {
     "name": "stdout",
     "output_type": "stream",
     "text": [
      "2018-10-10 18:06 6.647\n"
     ]
    }
   ],
   "source": [
    "data = open('/blue/bsc4452/share/Class_Files/data/CO-OPS__8729108__wl.csv')\n",
    "\n",
    "max_water_level = 0\n",
    "\n",
    "date_time = \" \"\n",
    "\n",
    "for line in data:\n",
    "\n",
    "    line = line.rstrip()\n",
    "\n",
    "   #print(line, sep = \",\")\n",
    "\n",
    "    columns = line.split(sep = ',')\n",
    "\n",
    "    #print(columns[1])\n",
    "    try:\n",
    "        water_level = float(columns[1])\n",
    "    except:\n",
    "        continue\n",
    "        \n",
    "    date = columns[0]\n",
    "\n",
    "    #print(water_level)\n",
    "\n",
    "    #print(date)\n",
    "\n",
    "    if water_level > max_water_level:\n",
    "\n",
    "        max_water_level = water_level\n",
    "\n",
    "        date_time = date\n",
    "        \n",
    "print(date_time, max_water_level)\n",
    "\n",
    "data.close()\n"
   ]
  },
  {
   "cell_type": "markdown",
   "id": "7949acae-e443-4e22-ad1e-e241db81339d",
   "metadata": {},
   "source": [
    "Problem 2:\n",
    "Either in a new script or modifying the above script, calculate the lowest, highest and average water level observed during the time period. As above, print the date and time for the lowest and highest readings. "
   ]
  },
  {
   "cell_type": "code",
   "execution_count": 3,
   "id": "9acf468e-4b04-4a4c-8f6e-2dc6ead9615f",
   "metadata": {},
   "outputs": [
    {
     "name": "stdout",
     "output_type": "stream",
     "text": [
      "The average water level is 3.868 on 2018-10-10\n",
      "The highest water level is 6.647 on 2018-10-10 18:06\n",
      "The lowest water level is 3.176 on  \n"
     ]
    }
   ],
   "source": [
    "data = open('/blue/bsc4452/share/Class_Files/data/CO-OPS__8729108__wl.csv', mode='r')\n",
    "\n",
    "#Define vectors and lists\n",
    "contain_max_water_level = []\n",
    "max_water_level = 0\n",
    "min_water_level = [0]\n",
    "date_time = \" \"\n",
    "min_date_time = \" \"\n",
    "\n",
    "#Extract data on the day when maximum water level occured\n",
    "for line in data:\n",
    "    line = line.rstrip()\n",
    "    columns = line.split(sep = ',')\n",
    "    try:\n",
    "        water_level = float(columns[1])\n",
    "    except:\n",
    "        continue\n",
    "    date= columns[0]\n",
    "    try:\n",
    "        water_level = float(columns[1])\n",
    "        if '2018-10-10' in date:\n",
    "            contain_max_water_level.append(columns) \n",
    "    except:\n",
    "        continue\n",
    "    \n",
    "#Calculate the lowest, highest and average water level observed    \n",
    "\n",
    "water_level_dat = []\n",
    "\n",
    "for line in range(len(contain_max_water_level)):\n",
    "    columns = contain_max_water_level[line]\n",
    "    date= columns[0]\n",
    "    \n",
    "    #To calculate average water level, remove nan\n",
    "    try:\n",
    "        num = float(columns[1])\n",
    "        water_level = float(columns[1])\n",
    "        if str(num) != 'nan':\n",
    "            water_level_dat.append(num)\n",
    "    except:\n",
    "        continue\n",
    "    \n",
    "    #Determine maximum water level\n",
    "    try:\n",
    "        water_level = float(columns[1])\n",
    "        if water_level > max_water_level:\n",
    "            max_water_level = water_level\n",
    "            max_date_time = date\n",
    "    except:\n",
    "        continue\n",
    "    \n",
    "    #Determine minimum water level\n",
    "    try:\n",
    "        water_level = float(columns[1])\n",
    "        if line == 0:\n",
    "            min_water_level = water_level\n",
    "        if water_level < min_water_level:\n",
    "            min_water_level = water_level\n",
    "            min_date_time = date\n",
    "    except:\n",
    "        continue\n",
    "\n",
    "#Average water level\n",
    "avg_water_level = sum(water_level_dat)/len(water_level_dat)\n",
    "print(f\"The average water level is {round(avg_water_level,3)} on 2018-10-10\")\n",
    "\n",
    "#Highest water level\n",
    "print(f\"The highest water level is {max_water_level} on {max_date_time}\")\n",
    "\n",
    "#Lowest water level\n",
    "print(f\"The lowest water level is {min_water_level} on {min_date_time}\")\n",
    "\n",
    "data.close()"
   ]
  },
  {
   "cell_type": "markdown",
   "id": "d8ef9384-ae84-497a-a969-632ea4a39491",
   "metadata": {},
   "source": [
    "Problem 3:\n",
    "Write a script (or Jupyter Notebook) that calculates the fastest rise in water level per 6-minute period between measurements (for this assignment, assume that each line of the dataset is a 6-minute interval) and reports the date and time that was observed and the change in water level from the previous recording."
   ]
  },
  {
   "cell_type": "code",
   "execution_count": 44,
   "id": "a6ad84d2-d66c-4df0-8569-4114f36fad47",
   "metadata": {},
   "outputs": [
    {
     "name": "stdout",
     "output_type": "stream",
     "text": [
      "The maximum water level is 0.64\n",
      "The maximum water level occured on 2018-10-10 17:42\n"
     ]
    }
   ],
   "source": [
    "data = open('/blue/bsc4452/share/Class_Files/data/CO-OPS__8729108__wl.csv', mode='r')\n",
    "\n",
    "water_rise = 0\n",
    "data2 = []\n",
    "\n",
    "for line in data:\n",
    "    line = line.rstrip()\n",
    "    columns = line.split(sep = ',')\n",
    "    #print(columns[1])\n",
    "    data2.append(columns)\n",
    "#print(data2)\n",
    "for index in range(len(data2)):\n",
    "    columns = data2[index]\n",
    "    #print(columns[1])\n",
    "    try:\n",
    "        if index > 1 and str(columns[1]) != 'nan':\n",
    "            #Old water level\n",
    "            Old_columns = data2[index-1]\n",
    "            old_water_level = Old_columns[1]\n",
    "            new_water_level = columns[1]\n",
    "            diff_water_level = float(new_water_level) - float(old_water_level)\n",
    "            if diff_water_level > water_rise:\n",
    "                water_rise = diff_water_level\n",
    "                water_level = new_water_level\n",
    "                date_water_rise = columns[0]\n",
    "    except:\n",
    "        continue\n",
    "        \n",
    "\n",
    "print(f\"The maximum water level is {round(water_rise,2)}\")\n",
    "#max_water_rise_dat = fhand[fhand[' Water Level'] == water_level]\n",
    "print(f\"The maximum water level occured on {date_water_rise}\")\n",
    "\n",
    "data.close()"
   ]
  },
  {
   "cell_type": "markdown",
   "id": "04854890-21f1-40bc-a8ac-4327274f0987",
   "metadata": {},
   "source": [
    "Problem 4:\n",
    "Imagine that the file is providing live readings of the water level. Write a script (or Jupyter Notebook) to print a line of text with a warning if any of these events occur:\n",
    "\n",
    "The water level increases more than 0.25 since the previous recording.\n",
    "The water level is over 5.0.\n",
    "No reading is received at a time point."
   ]
  },
  {
   "cell_type": "code",
   "execution_count": 47,
   "id": "d713c589-5b61-40e4-999e-4dfbbf46db32",
   "metadata": {},
   "outputs": [
    {
     "name": "stdout",
     "output_type": "stream",
     "text": [
      "Warning: Water level increases more than 0.25. Water level rise by 0.3 at 2018-10-10 17:30\n",
      "Warning: Water level increases more than 0.25. Water level rise by 0.28 at 2018-10-10 17:36\n",
      "Warning: Water level increases more than 0.25. Water level rise by 0.64 at 2018-10-10 17:42\n",
      "Warning: Water level increases more than 0.25. Water level rise by 0.37 at 2018-10-10 17:48\n",
      "Warning: Water level increases more than 0.25. Water level rise by 0.45 at 2018-10-10 17:54\n"
     ]
    }
   ],
   "source": [
    "data = open('/blue/bsc4452/share/Class_Files/data/CO-OPS__8729108__wl.csv', mode='r')\n",
    "\n",
    "water_rise = 0\n",
    "data2 = []\n",
    "\n",
    "for line in data:\n",
    "    line = line.rstrip()\n",
    "    columns = line.split(sep = ',')\n",
    "    #print(columns[1])\n",
    "    data2.append(columns)\n",
    "\n",
    "for index in range(len(data2)):\n",
    "    columns = data2[index]\n",
    "    if index > 1:\n",
    "        new_water_level = columns[1]\n",
    "        Old_columns = data2[index-1]\n",
    "        old_water_level = Old_columns[1]\n",
    "        try:\n",
    "            diff_water_level = float(new_water_level) - float(old_water_level)\n",
    "            if diff_water_level > 0.25:\n",
    "                #water_rise = diff_water_level\n",
    "                date_water_rise = columns[0]\n",
    "                print(f\"Warning: Water level increases more than 0.25. Water level rise by {round(diff_water_level,2)} at {date_water_rise}\")\n",
    "        except:\n",
    "            continue\n"
   ]
  },
  {
   "cell_type": "code",
   "execution_count": 48,
   "id": "e396dbc4-3d51-43f1-84d9-83e2863d5cd7",
   "metadata": {},
   "outputs": [
    {
     "name": "stdout",
     "output_type": "stream",
     "text": [
      "Warning: Water level greater than 5. Water level is 5.59 at 2018-10-10 17:42\n",
      "Warning: Water level greater than 5. Water level is 5.96 at 2018-10-10 17:48\n",
      "Warning: Water level greater than 5. Water level is 6.4 at 2018-10-10 17:54\n",
      "Warning: Water level greater than 5. Water level is 6.58 at 2018-10-10 18:00\n",
      "Warning: Water level greater than 5. Water level is 6.65 at 2018-10-10 18:06\n",
      "Warning: Water level greater than 5. Water level is 6.5 at 2018-10-10 18:12\n",
      "Warning: Water level greater than 5. Water level is 6.31 at 2018-10-10 18:24\n",
      "Warning: Water level greater than 5. Water level is 6.02 at 2018-10-10 18:30\n",
      "Warning: Water level greater than 5. Water level is 5.72 at 2018-10-10 18:36\n",
      "Warning: Water level greater than 5. Water level is 5.7 at 2018-10-10 18:42\n",
      "Warning: Water level greater than 5. Water level is 5.45 at 2018-10-10 18:48\n",
      "Warning: Water level greater than 5. Water level is 5.34 at 2018-10-10 18:54\n",
      "Warning: Water level greater than 5. Water level is 5.22 at 2018-10-10 19:00\n"
     ]
    }
   ],
   "source": [
    "\n",
    "for index in range(len(data2)):\n",
    "    columns = data2[index]\n",
    "    if index > 1:  \n",
    "        new_water_level = columns[1]\n",
    "        try:\n",
    "            new_water_level = float(new_water_level)\n",
    "            if new_water_level > 5:\n",
    "                water_level_gt_5 = new_water_level\n",
    "                date_water_level_gt_5 = columns[0]\n",
    "                print(f\"Warning: Water level greater than 5! Water level is {round(water_level_gt_5,2)} at {date_water_level_gt_5}\")\n",
    "        except:\n",
    "            continue            "
   ]
  },
  {
   "cell_type": "code",
   "execution_count": 49,
   "id": "d04d4b7a-2f0f-4ff0-8730-f94cce5e4873",
   "metadata": {},
   "outputs": [
    {
     "name": "stdout",
     "output_type": "stream",
     "text": [
      "Warning: No reading is received at 2018-10-10 18:18\n"
     ]
    }
   ],
   "source": [
    "for index in range(len(data2)):\n",
    "    columns = data2[index]\n",
    "    if index > 1:\n",
    "        new_water_level = columns[1]\n",
    "        try:\n",
    "            if len(new_water_level) == 0:\n",
    "                date_no_reading = columns[0]\n",
    "                print(f\"Warning: No reading is received at {date_no_reading}.\")\n",
    "        except:\n",
    "            continue"
   ]
  },
  {
   "cell_type": "code",
   "execution_count": 5,
   "id": "812bcca0-396b-4242-8438-8f41be3c154b",
   "metadata": {},
   "outputs": [],
   "source": [
    "data.close()"
   ]
  }
 ],
 "metadata": {
  "kernelspec": {
   "display_name": "Python 3 (ipykernel)",
   "language": "python",
   "name": "python3"
  },
  "language_info": {
   "codemirror_mode": {
    "name": "ipython",
    "version": 3
   },
   "file_extension": ".py",
   "mimetype": "text/x-python",
   "name": "python",
   "nbconvert_exporter": "python",
   "pygments_lexer": "ipython3",
   "version": "3.8.1"
  }
 },
 "nbformat": 4,
 "nbformat_minor": 5
}
